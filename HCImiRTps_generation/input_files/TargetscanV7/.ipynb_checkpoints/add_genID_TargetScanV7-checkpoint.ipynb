{
 "cells": [
  {
   "cell_type": "code",
   "execution_count": 1,
   "metadata": {},
   "outputs": [
    {
     "name": "stderr",
     "output_type": "stream",
     "text": [
      "R[write to console]: \n",
      "R[write to console]: Batch submitting query [=>-----------------------------]   7% eta:  1m\n",
      "R[write to console]: \n",
      "R[write to console]: Batch submitting query [==>----------------------------]  11% eta:  3m\n",
      "R[write to console]: \n",
      "R[write to console]: Batch submitting query [====>--------------------------]  15% eta:  3m\n",
      "R[write to console]: \n",
      "R[write to console]: Batch submitting query [=====>-------------------------]  19% eta:  3m\n",
      "R[write to console]: \n",
      "R[write to console]: Batch submitting query [======>------------------------]  22% eta:  3m\n",
      "R[write to console]: \n",
      "R[write to console]: Batch submitting query [=======>-----------------------]  26% eta:  3m\n",
      "R[write to console]: \n",
      "R[write to console]: Batch submitting query [========>----------------------]  30% eta:  2m\n",
      "R[write to console]: \n",
      "R[write to console]: Batch submitting query [=========>---------------------]  33% eta:  2m\n",
      "R[write to console]: \n",
      "R[write to console]: Batch submitting query [==========>--------------------]  37% eta:  2m\n",
      "R[write to console]: \n",
      "R[write to console]: Batch submitting query [============>------------------]  41% eta:  2m\n",
      "R[write to console]: \n",
      "R[write to console]: Batch submitting query [=============>-----------------]  44% eta:  2m\n",
      "R[write to console]: \n",
      "R[write to console]: Batch submitting query [==============>----------------]  48% eta:  1m\n",
      "R[write to console]: \n",
      "R[write to console]: Batch submitting query [===============>---------------]  52% eta:  1m\n",
      "R[write to console]: \n",
      "R[write to console]: Batch submitting query [================>--------------]  56% eta:  1m\n",
      "R[write to console]: \n",
      "R[write to console]: Batch submitting query [=================>-------------]  59% eta:  1m\n",
      "R[write to console]: \n",
      "R[write to console]: Batch submitting query [===================>-----------]  63% eta:  1m\n",
      "R[write to console]: \n",
      "R[write to console]: Batch submitting query [====================>----------]  67% eta:  1m\n",
      "R[write to console]: \n",
      "R[write to console]: Batch submitting query [=====================>---------]  70% eta:  1m\n",
      "R[write to console]: \n",
      "R[write to console]: Batch submitting query [======================>--------]  74% eta: 47s\n",
      "R[write to console]: \n",
      "R[write to console]: Batch submitting query [=======================>-------]  78% eta: 40s\n",
      "R[write to console]: \n",
      "R[write to console]: Batch submitting query [========================>------]  81% eta: 32s\n",
      "R[write to console]: \n",
      "R[write to console]: Batch submitting query [=========================>-----]  85% eta: 27s\n",
      "R[write to console]: \n",
      "R[write to console]: Batch submitting query [===========================>---]  89% eta: 20s\n",
      "R[write to console]: \n",
      "R[write to console]: Batch submitting query [============================>--]  93% eta: 13s\n",
      "R[write to console]: \n",
      "R[write to console]: Batch submitting query [=============================>-]  96% eta:  7s\n",
      "R[write to console]: \n",
      "R[write to console]: Batch submitting query [===============================] 100% eta:  0s\n",
      "                                                                      \n",
      "R[write to console]: \n"
     ]
    }
   ],
   "source": [
    "#paquetes\n",
    "import numpy as np\n",
    "import pandas as pd\n",
    "import biomartpy as bp\n",
    "\n",
    "# Carga de archivos\n",
    "miR_targ = pd.read_csv(filepath_or_buffer='Summary_Counts.all_predictions.txt', sep = \"\\t\")\n",
    "\n",
    "# adiccion gene_ID a miR_targ\n",
    "mart_name = 'ensembl'\n",
    "dataset = 'dmelanogaster_gene_ensembl'\n",
    "filters = {'ensembl_transcript_id': list(miR_targ[\"Transcript ID\"].drop_duplicates().values)}\n",
    "attributes = ['external_gene_name',\"ensembl_transcript_id\",\"ensembl_gene_id\"] #j# Quizas quitar 3' y 5' del propio gen\n",
    "seq = bp.make_lookup(mart_name=mart_name, dataset=dataset, attributes=attributes, filters=filters)\n",
    "newmiR_targ = seq.join(miR_targ.set_index(\"Transcript ID\"), on = \"ensembl_transcript_id\")\n",
    "newmiR_targ.to_csv(r'Summary_Counts.all_predictions.genID_added.csv')"
   ]
  },
  {
   "cell_type": "code",
   "execution_count": 2,
   "metadata": {},
   "outputs": [],
   "source": [
    "a = pd.read_csv(filepath_or_buffer='new_prediction_files/Conserved_Site_Context_Scores.txt', sep = \"\\t\")"
   ]
  },
  {
   "cell_type": "code",
   "execution_count": 6,
   "metadata": {},
   "outputs": [
    {
     "data": {
      "text/plain": [
       "(7036, 2)"
      ]
     },
     "execution_count": 6,
     "metadata": {},
     "output_type": "execute_result"
    }
   ],
   "source": [
    "a[[\"Gene ID\", \"Transcript ID\"]].drop_duplicates().shape"
   ]
  },
  {
   "cell_type": "code",
   "execution_count": 8,
   "metadata": {},
   "outputs": [
    {
     "data": {
      "text/plain": [
       "(5862, 1)"
      ]
     },
     "execution_count": 8,
     "metadata": {},
     "output_type": "execute_result"
    }
   ],
   "source": [
    "a[[\"Gene ID\"]].drop_duplicates().shape"
   ]
  },
  {
   "cell_type": "code",
   "execution_count": null,
   "metadata": {},
   "outputs": [],
   "source": []
  },
  {
   "cell_type": "code",
   "execution_count": null,
   "metadata": {},
   "outputs": [],
   "source": []
  },
  {
   "cell_type": "code",
   "execution_count": null,
   "metadata": {},
   "outputs": [],
   "source": []
  },
  {
   "cell_type": "code",
   "execution_count": null,
   "metadata": {},
   "outputs": [],
   "source": []
  },
  {
   "cell_type": "code",
   "execution_count": null,
   "metadata": {},
   "outputs": [],
   "source": []
  },
  {
   "cell_type": "code",
   "execution_count": null,
   "metadata": {},
   "outputs": [],
   "source": []
  }
 ],
 "metadata": {
  "kernelspec": {
   "display_name": "Python 3",
   "language": "python",
   "name": "python3"
  },
  "language_info": {
   "codemirror_mode": {
    "name": "ipython",
    "version": 3
   },
   "file_extension": ".py",
   "mimetype": "text/x-python",
   "name": "python",
   "nbconvert_exporter": "python",
   "pygments_lexer": "ipython3",
   "version": "3.7.2"
  }
 },
 "nbformat": 4,
 "nbformat_minor": 2
}
